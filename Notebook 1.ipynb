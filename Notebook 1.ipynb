{
 "cells": [
  {
   "cell_type": "markdown",
   "id": "7d26a18e-8603-44c6-83bb-cd98fab29203",
   "metadata": {},
   "source": [
    "### In this first notebook, the aim is to successfully collect data from the \"Global Warming API\" at https://global-warming.org using python. \n",
    "> The website has 6 apis each of which has a unique dataset:\n",
    "      > - Global Monthly Mean Surface Temperature Change\n",
    "      > - Daily global seasonal cycle and trend value\n",
    "      > - Globally averaged marine surface monthly mean data\n",
    "      > - Nitrous averaged marine surface monthly mean data\n",
    "      > - Arctic averaged marine surface yearly mean data\n",
    "      > - Global Ocean Temperature Anomalies"
   ]
  },
  {
   "cell_type": "code",
   "execution_count": 1,
   "id": "4b14f61d-1794-4fb5-adc5-3c1e5ef10172",
   "metadata": {},
   "outputs": [],
   "source": [
    "import requests \n",
    "# requests: This module allows you to send HTTP/1.1 requests using Python. It provides an easy way to interact with web services and retrieve data from web pages.\n",
    "\n",
    "import pandas as pd\n",
    "# pandas: This module provides powerful data structures for data analysis and manipulation. It allows you to read data from various sources, such as CSV or Excel files, and perform operations on the data using its DataFrame and Series objects.\n",
    "\n",
    "import math\n",
    "# math: This module provides mathematical functions and constants."
   ]
  },
  {
   "cell_type": "code",
   "execution_count": 2,
   "id": "4543eae1",
   "metadata": {},
   "outputs": [],
   "source": [
    "# Global Monthly Mean Surface Temperature Change  \n",
    "\n",
    "GMMST_url = 'https://global-warming.org/api/temperature-api' \n",
    "url_name = 'Global Monthly Mean Surface Temperature Change'\n",
    "\n",
    "def main_request(GMMST_url):\n",
    "    r = requests.get(GMMST_url)\n",
    "    return r.json()\n",
    "\n",
    "def parse_json(response):\n",
    "    charlist = []\n",
    "    for item in response['result']:\n",
    "        char = {\n",
    "            'time' : item['time'], \n",
    "            'station' : item['station'],\n",
    "            'land' : item['land']}\n",
    "        \n",
    "        charlist.append(char)\n",
    "    return charlist\n",
    "\n",
    "data1 = main_request(GMMST_url)\n",
    "df1 = pd.DataFrame(parse_json(data1))\n",
    "\n",
    "\n",
    "# Save dataframe as a CSV file.\n",
    "df1.to_csv(f'{url_name}.csv', index=False)"
   ]
  },
  {
   "cell_type": "markdown",
   "id": "10c3efb1-9143-4b9e-9d10-db91228b92e7",
   "metadata": {},
   "source": [
    "First we defines a variable XXXXX_url (for example: GMMST_url) which contains the URL for an API endpoint that provides data asssociated to the url_name."
   ]
  },
  {
   "cell_type": "markdown",
   "id": "c5f98dff-65fc-4880-bac4-30c52b733043",
   "metadata": {},
   "source": [
    "The main_request function takes in the XXXXX_url as an argument and sends a GET request to the URL using the requests module. It then returns the response in JSON format."
   ]
  },
  {
   "cell_type": "markdown",
   "id": "ac65314b-e030-4d5f-af70-9cb24c32cca2",
   "metadata": {},
   "source": [
    "The parse_json function takes in the response from the main_request function as an argument and extracts the relevant data from it. And in this case, it extracts the time, station, and land data for each item in the 'result' key of the JSON response. It then returns a list of dictionaries, where each dictionary contains the extracted data."
   ]
  },
  {
   "cell_type": "markdown",
   "id": "d26d3255-59b9-4839-87b2-a368172cd018",
   "metadata": {},
   "source": [
    "The code then calls the main_request function with the XXXXX_url as an argument and stores the returned JSON data in the dataX (for example data1) variable."
   ]
  },
  {
   "cell_type": "markdown",
   "id": "2e70e9a8-0bb4-4ce7-a67d-d7a7de23709d",
   "metadata": {},
   "source": [
    "The parse_json function is then called with dataX as an argument, and the returned list of dictionaries is used to create a pandas DataFrame using the pd.DataFrame function. This DataFrame is stored in the dfX(for example df1) variable."
   ]
  },
  {
   "cell_type": "markdown",
   "id": "8200aec8-743b-4e24-84e0-ba989ce8b9ce",
   "metadata": {},
   "source": [
    "Finally, the to_csv method is called on dfX to save the DataFrame as a CSV file. The filename is generated dynamically based on the url_name variable (which contains a string describing the source of the data), and the index parameter is set to False to exclude the index column from the output file."
   ]
  },
  {
   "cell_type": "markdown",
   "id": "88d34b4d-c708-4a09-aba9-83823a5f0339",
   "metadata": {},
   "source": [
    "With this approach, data is collected from the other 5 urls as shown below:"
   ]
  },
  {
   "cell_type": "code",
   "execution_count": 3,
   "id": "326fadde",
   "metadata": {},
   "outputs": [],
   "source": [
    "# Daily global seasonal cycle and trend value\n",
    "\n",
    "DGSCTV_url = 'https://global-warming.org/api/co2-api' \n",
    "url_name = 'Daily global seasonal cycle and trend value'\n",
    "def main_request(DGSCTV_url):\n",
    "    r = requests.get(DGSCTV_url)\n",
    "    return r.json()\n",
    "\n",
    "def parse_json(response):\n",
    "    charlist = []\n",
    "    for item in response['co2']:\n",
    "        char = {\n",
    "            'year' : item['year'], \n",
    "            'month' : item['month'],\n",
    "            'day' : item['day'],\n",
    "            'cycle' : item['cycle'],\n",
    "            'trend' : item['trend'],\n",
    "        }\n",
    "        \n",
    "        charlist.append(char)\n",
    "    return charlist\n",
    "\n",
    "data2 = main_request(DGSCTV_url)\n",
    "df2 = pd.DataFrame(parse_json(data2))\n",
    "# Save dataframe as a CSV file.\n",
    "df2.to_csv(f'{url_name}.csv', index=False)"
   ]
  },
  {
   "cell_type": "code",
   "execution_count": 4,
   "id": "1f6b5259",
   "metadata": {},
   "outputs": [],
   "source": [
    "# Globally averaged marine surface monthly mean data\n",
    "GAMSMMD_url = 'https://global-warming.org/api/methane-api'\n",
    "url_name = 'Globally averaged marine surface monthly mean data'\n",
    "def main_request(GAMSMMD_url):\n",
    "    r = requests.get(GAMSMMD_url)\n",
    "    return r.json()\n",
    "\n",
    "def parse_json(response):\n",
    "    charlist = []\n",
    "    for item in response['methane']:\n",
    "        char = {\n",
    "            'date' : item['date'], \n",
    "            'average' : item['average'],\n",
    "            'trend' : item['trend'],\n",
    "            'averageUnc' : item['averageUnc'],\n",
    "            'trendUnc' : item['trendUnc'],\n",
    "        }\n",
    "        \n",
    "        charlist.append(char)\n",
    "#         print(item['time'], item['station'], item['land'])\n",
    "    return charlist\n",
    "\n",
    "data3 = main_request(GAMSMMD_url)\n",
    "df3 = pd.DataFrame(parse_json(data3))\n",
    "# Save dataframe as a CSV file.\n",
    "df3.to_csv(f'{url_name}.csv', index=False)"
   ]
  },
  {
   "cell_type": "code",
   "execution_count": 5,
   "id": "b2507111",
   "metadata": {},
   "outputs": [],
   "source": [
    "# Nitrous averaged marine surface monthly mean data\n",
    "NAMSMMD_url = 'https://global-warming.org/api/nitrous-oxide-api' \n",
    "url_name = 'Nitrous averaged marine surface monthly mean data'\n",
    "def main_request(NAMSMMD_url):\n",
    "    r = requests.get(NAMSMMD_url)\n",
    "    return r.json()\n",
    "\n",
    "def parse_json(response):\n",
    "    charlist = []\n",
    "    for item in response['nitrous']:\n",
    "        char = {\n",
    "            'date' : item['date'], \n",
    "            'average' : item['average'],\n",
    "            'trend' : item['trend'],\n",
    "            'averageUnc' : item['averageUnc'],\n",
    "            'trendUnc' : item['trendUnc'],\n",
    "        }\n",
    "        \n",
    "        charlist.append(char)\n",
    "    return charlist\n",
    "\n",
    "data4 = main_request(NAMSMMD_url)\n",
    "df4 = pd.DataFrame(parse_json(data4))\n",
    "# Save dataframe as a CSV file.\n",
    "df4.to_csv(f'{url_name}.csv', index=False)"
   ]
  },
  {
   "cell_type": "code",
   "execution_count": 6,
   "id": "6a229139",
   "metadata": {},
   "outputs": [],
   "source": [
    "# Arctic averaged marine surface yearly mean data\n",
    "AAMSYMD_url = 'https://global-warming.org/api/arctic-api' \n",
    "url_name = 'Arctic averaged marine surface yearly mean data'\n",
    "def main_request(AAMSYMD_url):\n",
    "    r = requests.get(AAMSYMD_url)\n",
    "    return r.json()\n",
    "\n",
    "def parse_json(response):\n",
    "    charlist = []\n",
    "    for item in response['arcticData']:\n",
    "        char = {\n",
    "            'index' : item['Column1'], \n",
    "            'year' : item['year'],\n",
    "            'month' : item['month'],\n",
    "            'data-type' : item['data-type'],\n",
    "            'hemisphere' : item['hemisphere'],\n",
    "            'extent' : item['extent'],\n",
    "            'area' : item['area'],\n",
    "            'rank' : item['rank']\n",
    "        }\n",
    "        \n",
    "        charlist.append(char)\n",
    "    return charlist\n",
    "\n",
    "data5 = main_request(AAMSYMD_url)\n",
    "df5 = pd.DataFrame(parse_json(data5))\n",
    "\n",
    "# Save dataframe as a CSV file.\n",
    "df5.to_csv(f'{url_name}.csv', index=False)"
   ]
  },
  {
   "cell_type": "code",
   "execution_count": 7,
   "id": "b2a03a46",
   "metadata": {},
   "outputs": [],
   "source": [
    "# Global Ocean Temperature Anomalies\n",
    "GOTA_url = 'https://global-warming.org/api/ocean-warming-api' \n",
    "url_name = 'Global Ocean Temperature Anomalies'\n",
    "\n",
    "response = requests.get(GOTA_url)\n",
    "data6 = response.json()[\"result\"]\n",
    "\n",
    "df6 = pd.DataFrame(data6.items(), columns=[\"year\", \"Temperature anomaly\"])\n",
    "\n",
    "# Save dataframe as a CSV file.\n",
    "df6.to_csv(f'{url_name}.csv', index=False)"
   ]
  },
  {
   "cell_type": "markdown",
   "id": "1c38aeb1-a14c-4160-a5cf-a892913915e6",
   "metadata": {},
   "source": [
    "The data is successfully collected and stored in csv format under specified names within the same directory as this notebook."
   ]
  },
  {
   "cell_type": "markdown",
   "id": "1fbb95da-c328-4269-abea-353702971325",
   "metadata": {},
   "source": [
    "E-O-F"
   ]
  }
 ],
 "metadata": {
  "kernelspec": {
   "display_name": "Python 3 (ipykernel)",
   "language": "python",
   "name": "python3"
  },
  "language_info": {
   "codemirror_mode": {
    "name": "ipython",
    "version": 3
   },
   "file_extension": ".py",
   "mimetype": "text/x-python",
   "name": "python",
   "nbconvert_exporter": "python",
   "pygments_lexer": "ipython3",
   "version": "3.9.13"
  }
 },
 "nbformat": 4,
 "nbformat_minor": 5
}
